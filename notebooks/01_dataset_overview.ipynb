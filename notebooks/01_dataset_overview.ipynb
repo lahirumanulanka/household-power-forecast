{
 "cells": [
  {
   "cell_type": "markdown",
   "metadata": {},
   "source": [
    "# 01 - Dataset Overview and Exploration\n",
    "\n",
    "This notebook provides a comprehensive overview of the UCI Individual Household Electric Power Consumption dataset.\n",
    "\n",
    "## Objectives\n",
    "1. Load and examine the raw dataset\n",
    "2. Understand data structure, types, and basic statistics\n",
    "3. Identify data quality issues (missing values, outliers)\n",
    "4. Visualize temporal patterns at different resolutions\n",
    "5. Document key findings for modeling decisions"
   ]
  },
  {
   "cell_type": "code",
   "execution_count": null,
   "metadata": {},
   "outputs": [],
   "source": [
    "import sys\n",
    "sys.path.append('..')\n",
    "\n",
    "import pandas as pd\n",
    "import numpy as np\n",
    "import matplotlib.pyplot as plt\n",
    "import seaborn as sns\n",
    "from pathlib import Path\n",
    "import warnings\n",
    "\n",
    "warnings.filterwarnings('ignore')\n",
    "sns.set_style('whitegrid')\n",
    "plt.rcParams['figure.figsize'] = (15, 6)\n",
    "\n",
    "from src.data.load_data import load_raw\n",
    "\n",
    "print(\"Libraries imported successfully\")"
   ]
  },
  {
   "cell_type": "markdown",
   "metadata": {},
   "source": [
    "## 1. Load Dataset"
   ]
  },
  {
   "cell_type": "code",
   "execution_count": null,
   "metadata": {},
   "outputs": [],
   "source": [
    "# Load raw data\n",
    "data_path = '../dataset/household_power_consumption.txt'\n",
    "df = load_raw(data_path)\n",
    "\n",
    "print(f\"Dataset shape: {df.shape}\")\n",
    "print(f\"Date range: {df['DateTime'].min()} to {df['DateTime'].max()}\")\n",
    "print(f\"Total duration: {(df['DateTime'].max() - df['DateTime'].min()).days} days\")"
   ]
  },
  {
   "cell_type": "markdown",
   "metadata": {},
   "source": [
    "## 2. Data Structure and Types"
   ]
  },
  {
   "cell_type": "code",
   "execution_count": null,
   "metadata": {},
   "outputs": [],
   "source": [
    "# Display first few rows\n",
    "df.head(10)"
   ]
  },
  {
   "cell_type": "code",
   "execution_count": null,
   "metadata": {},
   "outputs": [],
   "source": [
    "# Data info\n",
    "df.info()"
   ]
  },
  {
   "cell_type": "code",
   "execution_count": null,
   "metadata": {},
   "outputs": [],
   "source": [
    "# Column descriptions\n",
    "column_descriptions = {\n",
    "    'DateTime': 'Date and time (combined from Date and Time columns)',\n",
    "    'Global_active_power': 'Household global minute-averaged active power (kilowatts)',\n",
    "    'Global_reactive_power': 'Household global minute-averaged reactive power (kilowatts)',\n",
    "    'Voltage': 'Minute-averaged voltage (volts)',\n",
    "    'Global_intensity': 'Household global minute-averaged current intensity (amperes)',\n",
    "    'Sub_metering_1': 'Energy sub-metering No. 1 - Kitchen (watt-hours)',\n",
    "    'Sub_metering_2': 'Energy sub-metering No. 2 - Laundry (watt-hours)',\n",
    "    'Sub_metering_3': 'Energy sub-metering No. 3 - Water heater & AC (watt-hours)'\n",
    "}\n",
    "\n",
    "pd.DataFrame(column_descriptions.items(), columns=['Column', 'Description'])"
   ]
  },
  {
   "cell_type": "markdown",
   "metadata": {},
   "source": [
    "## 3. Basic Statistics"
   ]
  },
  {
   "cell_type": "code",
   "execution_count": null,
   "metadata": {},
   "outputs": [],
   "source": [
    "# Summary statistics\n",
    "df.describe()"
   ]
  },
  {
   "cell_type": "markdown",
   "metadata": {},
   "source": [
    "## 4. Missing Values Analysis"
   ]
  },
  {
   "cell_type": "code",
   "execution_count": null,
   "metadata": {},
   "outputs": [],
   "source": [
    "# Missing values count and percentage\n",
    "missing_stats = pd.DataFrame({\n",
    "    'Missing Count': df.isnull().sum(),\n",
    "    'Missing Percentage': (df.isnull().sum() / len(df)) * 100\n",
    "})\n",
    "missing_stats = missing_stats[missing_stats['Missing Count'] > 0].sort_values('Missing Count', ascending=False)\n",
    "print(missing_stats)"
   ]
  },
  {
   "cell_type": "code",
   "execution_count": null,
   "metadata": {},
   "outputs": [],
   "source": [
    "# Visualize missing values pattern\n",
    "fig, axes = plt.subplots(2, 1, figsize=(15, 8))\n",
    "\n",
    "# Missing values heatmap (sample)\n",
    "sample_size = 10000\n",
    "sample_idx = np.random.choice(df.index, size=min(sample_size, len(df)), replace=False)\n",
    "sample_idx = sorted(sample_idx)\n",
    "\n",
    "axes[0].set_title('Missing Values Pattern (Sample)', fontsize=14, fontweight='bold')\n",
    "sns.heatmap(df.loc[sample_idx].isnull().T, cbar=True, cmap='YlOrRd', ax=axes[0])\n",
    "axes[0].set_xlabel('Sample Index')\n",
    "\n",
    "# Missing values over time\n",
    "df_temp = df.copy()\n",
    "df_temp['date'] = df_temp['DateTime'].dt.date\n",
    "daily_missing = df_temp.groupby('date')['Global_active_power'].apply(lambda x: x.isnull().sum())\n",
    "\n",
    "axes[1].plot(daily_missing.index, daily_missing.values)\n",
    "axes[1].set_title('Daily Missing Values Count', fontsize=14, fontweight='bold')\n",
    "axes[1].set_xlabel('Date')\n",
    "axes[1].set_ylabel('Missing Count')\n",
    "axes[1].grid(True, alpha=0.3)\n",
    "\n",
    "plt.tight_layout()\n",
    "plt.show()"
   ]
  },
  {
   "cell_type": "markdown",
   "metadata": {},
   "source": [
    "## 5. Target Variable Analysis: Global Active Power"
   ]
  },
  {
   "cell_type": "code",
   "execution_count": null,
   "metadata": {},
   "outputs": [],
   "source": [
    "# Focus on target variable\n",
    "target = 'Global_active_power'\n",
    "target_data = df[target].dropna()\n",
    "\n",
    "print(f\"Target variable: {target}\")\n",
    "print(f\"Valid observations: {len(target_data):,}\")\n",
    "print(f\"Missing observations: {df[target].isnull().sum():,}\")\n",
    "print(f\"\\nStatistics:\")\n",
    "print(target_data.describe())"
   ]
  },
  {
   "cell_type": "code",
   "execution_count": null,
   "metadata": {},
   "outputs": [],
   "source": [
    "# Distribution of target variable\n",
    "fig, axes = plt.subplots(1, 3, figsize=(18, 5))\n",
    "\n",
    "# Histogram\n",
    "axes[0].hist(target_data, bins=100, edgecolor='black', alpha=0.7)\n",
    "axes[0].set_title('Distribution of Global Active Power', fontsize=12, fontweight='bold')\n",
    "axes[0].set_xlabel('Power (kW)')\n",
    "axes[0].set_ylabel('Frequency')\n",
    "axes[0].axvline(target_data.mean(), color='red', linestyle='--', label=f'Mean: {target_data.mean():.2f}')\n",
    "axes[0].axvline(target_data.median(), color='green', linestyle='--', label=f'Median: {target_data.median():.2f}')\n",
    "axes[0].legend()\n",
    "\n",
    "# Box plot\n",
    "axes[1].boxplot(target_data)\n",
    "axes[1].set_title('Box Plot', fontsize=12, fontweight='bold')\n",
    "axes[1].set_ylabel('Power (kW)')\n",
    "\n",
    "# Q-Q plot for normality check\n",
    "from scipy import stats\n",
    "stats.probplot(target_data.sample(min(10000, len(target_data))), dist=\"norm\", plot=axes[2])\n",
    "axes[2].set_title('Q-Q Plot (Normality Check)', fontsize=12, fontweight='bold')\n",
    "\n",
    "plt.tight_layout()\n",
    "plt.show()"
   ]
  },
  {
   "cell_type": "markdown",
   "metadata": {},
   "source": [
    "## 6. Time Series Visualization"
   ]
  },
  {
   "cell_type": "code",
   "execution_count": null,
   "metadata": {},
   "outputs": [],
   "source": [
    "# Full time series\n",
    "fig, ax = plt.subplots(figsize=(18, 6))\n",
    "ax.plot(df['DateTime'], df[target], linewidth=0.5, alpha=0.7)\n",
    "ax.set_title('Global Active Power - Full Time Series', fontsize=14, fontweight='bold')\n",
    "ax.set_xlabel('Date')\n",
    "ax.set_ylabel('Power (kW)')\n",
    "ax.grid(True, alpha=0.3)\n",
    "plt.tight_layout()\n",
    "plt.show()"
   ]
  },
  {
   "cell_type": "code",
   "execution_count": null,
   "metadata": {},
   "outputs": [],
   "source": [
    "# Zoom into one week\n",
    "week_sample = df[df['DateTime'].between('2007-01-01', '2007-01-07')]\n",
    "\n",
    "fig, ax = plt.subplots(figsize=(18, 6))\n",
    "ax.plot(week_sample['DateTime'], week_sample[target], linewidth=1.5)\n",
    "ax.set_title('Global Active Power - One Week Sample (Jan 1-7, 2007)', fontsize=14, fontweight='bold')\n",
    "ax.set_xlabel('Date and Time')\n",
    "ax.set_ylabel('Power (kW)')\n",
    "ax.grid(True, alpha=0.3)\n",
    "plt.tight_layout()\n",
    "plt.show()"
   ]
  },
  {
   "cell_type": "code",
   "execution_count": null,
   "metadata": {},
   "outputs": [],
   "source": [
    "# Zoom into one day\n",
    "day_sample = df[df['DateTime'].between('2007-01-01', '2007-01-02')]\n",
    "\n",
    "fig, ax = plt.subplots(figsize=(18, 6))\n",
    "ax.plot(day_sample['DateTime'], day_sample[target], linewidth=2, marker='o', markersize=3)\n",
    "ax.set_title('Global Active Power - One Day Sample (Jan 1, 2007)', fontsize=14, fontweight='bold')\n",
    "ax.set_xlabel('Time')\n",
    "ax.set_ylabel('Power (kW)')\n",
    "ax.grid(True, alpha=0.3)\n",
    "plt.tight_layout()\n",
    "plt.show()"
   ]
  },
  {
   "cell_type": "markdown",
   "metadata": {},
   "source": [
    "## 7. Temporal Patterns Analysis"
   ]
  },
  {
   "cell_type": "code",
   "execution_count": null,
   "metadata": {},
   "outputs": [],
   "source": [
    "# Add temporal features for analysis\n",
    "df_analysis = df.dropna(subset=[target]).copy()\n",
    "df_analysis['hour'] = df_analysis['DateTime'].dt.hour\n",
    "df_analysis['dayofweek'] = df_analysis['DateTime'].dt.dayofweek\n",
    "df_analysis['month'] = df_analysis['DateTime'].dt.month\n",
    "df_analysis['year'] = df_analysis['DateTime'].dt.year\n",
    "\n",
    "print(f\"Analysis dataset: {len(df_analysis):,} observations\")"
   ]
  },
  {
   "cell_type": "code",
   "execution_count": null,
   "metadata": {},
   "outputs": [],
   "source": [
    "# Hourly patterns\n",
    "fig, axes = plt.subplots(1, 2, figsize=(18, 6))\n",
    "\n",
    "hourly_avg = df_analysis.groupby('hour')[target].mean()\n",
    "hourly_std = df_analysis.groupby('hour')[target].std()\n",
    "\n",
    "axes[0].plot(hourly_avg.index, hourly_avg.values, marker='o', linewidth=2, markersize=8)\n",
    "axes[0].fill_between(hourly_avg.index, \n",
    "                      hourly_avg.values - hourly_std.values, \n",
    "                      hourly_avg.values + hourly_std.values, \n",
    "                      alpha=0.3)\n",
    "axes[0].set_title('Average Power Consumption by Hour of Day', fontsize=12, fontweight='bold')\n",
    "axes[0].set_xlabel('Hour of Day')\n",
    "axes[0].set_ylabel('Average Power (kW)')\n",
    "axes[0].grid(True, alpha=0.3)\n",
    "axes[0].set_xticks(range(0, 24))\n",
    "\n",
    "# Box plot by hour\n",
    "df_analysis.boxplot(column=target, by='hour', ax=axes[1], figsize=(18, 6))\n",
    "axes[1].set_title('Power Distribution by Hour', fontsize=12, fontweight='bold')\n",
    "axes[1].set_xlabel('Hour of Day')\n",
    "axes[1].set_ylabel('Power (kW)')\n",
    "plt.suptitle('')\n",
    "\n",
    "plt.tight_layout()\n",
    "plt.show()"
   ]
  },
  {
   "cell_type": "code",
   "execution_count": null,
   "metadata": {},
   "outputs": [],
   "source": [
    "# Day of week patterns\n",
    "day_names = ['Monday', 'Tuesday', 'Wednesday', 'Thursday', 'Friday', 'Saturday', 'Sunday']\n",
    "\n",
    "fig, axes = plt.subplots(1, 2, figsize=(18, 6))\n",
    "\n",
    "dow_avg = df_analysis.groupby('dayofweek')[target].mean()\n",
    "dow_std = df_analysis.groupby('dayofweek')[target].std()\n",
    "\n",
    "axes[0].bar(dow_avg.index, dow_avg.values, yerr=dow_std.values, capsize=5, alpha=0.7, edgecolor='black')\n",
    "axes[0].set_title('Average Power Consumption by Day of Week', fontsize=12, fontweight='bold')\n",
    "axes[0].set_xlabel('Day of Week')\n",
    "axes[0].set_ylabel('Average Power (kW)')\n",
    "axes[0].set_xticks(range(7))\n",
    "axes[0].set_xticklabels(day_names, rotation=45)\n",
    "axes[0].grid(True, alpha=0.3, axis='y')\n",
    "\n",
    "# Heatmap: Hour x Day of Week\n",
    "pivot_table = df_analysis.pivot_table(values=target, index='hour', columns='dayofweek', aggfunc='mean')\n",
    "sns.heatmap(pivot_table, cmap='YlOrRd', ax=axes[1], cbar_kws={'label': 'Power (kW)'})\n",
    "axes[1].set_title('Power Consumption Heatmap: Hour x Day of Week', fontsize=12, fontweight='bold')\n",
    "axes[1].set_xlabel('Day of Week')\n",
    "axes[1].set_ylabel('Hour of Day')\n",
    "axes[1].set_xticklabels([day[:3] for day in day_names])\n",
    "\n",
    "plt.tight_layout()\n",
    "plt.show()"
   ]
  },
  {
   "cell_type": "code",
   "execution_count": null,
   "metadata": {},
   "outputs": [],
   "source": [
    "# Monthly and seasonal patterns\n",
    "month_names = ['Jan', 'Feb', 'Mar', 'Apr', 'May', 'Jun', 'Jul', 'Aug', 'Sep', 'Oct', 'Nov', 'Dec']\n",
    "\n",
    "fig, axes = plt.subplots(1, 2, figsize=(18, 6))\n",
    "\n",
    "monthly_avg = df_analysis.groupby('month')[target].mean()\n",
    "monthly_std = df_analysis.groupby('month')[target].std()\n",
    "\n",
    "axes[0].plot(monthly_avg.index, monthly_avg.values, marker='o', linewidth=2, markersize=8)\n",
    "axes[0].fill_between(monthly_avg.index, \n",
    "                      monthly_avg.values - monthly_std.values, \n",
    "                      monthly_avg.values + monthly_std.values, \n",
    "                      alpha=0.3)\n",
    "axes[0].set_title('Average Power Consumption by Month', fontsize=12, fontweight='bold')\n",
    "axes[0].set_xlabel('Month')\n",
    "axes[0].set_ylabel('Average Power (kW)')\n",
    "axes[0].set_xticks(range(1, 13))\n",
    "axes[0].set_xticklabels(month_names)\n",
    "axes[0].grid(True, alpha=0.3)\n",
    "\n",
    "# Yearly comparison\n",
    "yearly_avg = df_analysis.groupby('year')[target].mean()\n",
    "yearly_std = df_analysis.groupby('year')[target].std()\n",
    "\n",
    "axes[1].bar(yearly_avg.index, yearly_avg.values, yerr=yearly_std.values, capsize=5, alpha=0.7, edgecolor='black')\n",
    "axes[1].set_title('Average Power Consumption by Year', fontsize=12, fontweight='bold')\n",
    "axes[1].set_xlabel('Year')\n",
    "axes[1].set_ylabel('Average Power (kW)')\n",
    "axes[1].grid(True, alpha=0.3, axis='y')\n",
    "\n",
    "plt.tight_layout()\n",
    "plt.show()"
   ]
  },
  {
   "cell_type": "markdown",
   "metadata": {},
   "source": [
    "## 8. Sub-metering Analysis"
   ]
  },
  {
   "cell_type": "code",
   "execution_count": null,
   "metadata": {},
   "outputs": [],
   "source": [
    "# Sub-metering variables\n",
    "submetering_cols = ['Sub_metering_1', 'Sub_metering_2', 'Sub_metering_3']\n",
    "submetering_labels = ['Kitchen', 'Laundry', 'Water Heater & AC']\n",
    "\n",
    "# Calculate average contribution\n",
    "fig, axes = plt.subplots(2, 2, figsize=(18, 12))\n",
    "\n",
    "# Average values\n",
    "avg_values = [df[col].mean() for col in submetering_cols]\n",
    "axes[0, 0].bar(submetering_labels, avg_values, alpha=0.7, edgecolor='black')\n",
    "axes[0, 0].set_title('Average Energy by Sub-metering Zone', fontsize=12, fontweight='bold')\n",
    "axes[0, 0].set_ylabel('Average Energy (Wh)')\n",
    "axes[0, 0].grid(True, alpha=0.3, axis='y')\n",
    "\n",
    "# Pie chart of contribution\n",
    "axes[0, 1].pie(avg_values, labels=submetering_labels, autopct='%1.1f%%', startangle=90)\n",
    "axes[0, 1].set_title('Energy Distribution by Zone', fontsize=12, fontweight='bold')\n",
    "\n",
    "# Time series comparison (sample week)\n",
    "week_sample = df[df['DateTime'].between('2007-01-01', '2007-01-07')]\n",
    "for col, label in zip(submetering_cols, submetering_labels):\n",
    "    axes[1, 0].plot(week_sample['DateTime'], week_sample[col], label=label, alpha=0.7, linewidth=1.5)\n",
    "axes[1, 0].set_title('Sub-metering Comparison - One Week', fontsize=12, fontweight='bold')\n",
    "axes[1, 0].set_xlabel('Date')\n",
    "axes[1, 0].set_ylabel('Energy (Wh)')\n",
    "axes[1, 0].legend()\n",
    "axes[1, 0].grid(True, alpha=0.3)\n",
    "\n",
    "# Box plots\n",
    "df[submetering_cols].boxplot(ax=axes[1, 1])\n",
    "axes[1, 1].set_title('Sub-metering Distribution', fontsize=12, fontweight='bold')\n",
    "axes[1, 1].set_xticklabels(submetering_labels, rotation=45)\n",
    "axes[1, 1].set_ylabel('Energy (Wh)')\n",
    "\n",
    "plt.tight_layout()\n",
    "plt.show()"
   ]
  },
  {
   "cell_type": "markdown",
   "metadata": {},
   "source": [
    "## 9. Correlation Analysis"
   ]
  },
  {
   "cell_type": "code",
   "execution_count": null,
   "metadata": {},
   "outputs": [],
   "source": [
    "# Correlation matrix\n",
    "numeric_cols = df.select_dtypes(include=[np.number]).columns.tolist()\n",
    "corr_matrix = df[numeric_cols].corr()\n",
    "\n",
    "fig, ax = plt.subplots(figsize=(12, 10))\n",
    "sns.heatmap(corr_matrix, annot=True, fmt='.2f', cmap='coolwarm', center=0, \n",
    "            square=True, linewidths=1, cbar_kws={\"shrink\": 0.8}, ax=ax)\n",
    "ax.set_title('Correlation Matrix - All Variables', fontsize=14, fontweight='bold')\n",
    "plt.tight_layout()\n",
    "plt.show()"
   ]
  },
  {
   "cell_type": "markdown",
   "metadata": {},
   "source": [
    "## 10. Outlier Detection"
   ]
  },
  {
   "cell_type": "code",
   "execution_count": null,
   "metadata": {},
   "outputs": [],
   "source": [
    "# Detect outliers using IQR method\n",
    "Q1 = target_data.quantile(0.25)\n",
    "Q3 = target_data.quantile(0.75)\n",
    "IQR = Q3 - Q1\n",
    "\n",
    "lower_bound = Q1 - 1.5 * IQR\n",
    "upper_bound = Q3 + 1.5 * IQR\n",
    "\n",
    "outliers = target_data[(target_data < lower_bound) | (target_data > upper_bound)]\n",
    "\n",
    "print(f\"Total outliers detected: {len(outliers):,} ({len(outliers)/len(target_data)*100:.2f}%)\")\n",
    "print(f\"Lower bound: {lower_bound:.2f} kW\")\n",
    "print(f\"Upper bound: {upper_bound:.2f} kW\")\n",
    "print(f\"\\nOutlier statistics:\")\n",
    "print(outliers.describe())"
   ]
  },
  {
   "cell_type": "code",
   "execution_count": null,
   "metadata": {},
   "outputs": [],
   "source": [
    "# Visualize outliers\n",
    "fig, axes = plt.subplots(2, 1, figsize=(18, 10))\n",
    "\n",
    "# Scatter plot with outliers highlighted\n",
    "normal_data = target_data[(target_data >= lower_bound) & (target_data <= upper_bound)]\n",
    "axes[0].scatter(range(len(normal_data)), normal_data, s=1, alpha=0.5, label='Normal')\n",
    "axes[0].scatter(outliers.index, outliers, s=5, c='red', alpha=0.5, label='Outliers')\n",
    "axes[0].axhline(upper_bound, color='orange', linestyle='--', label='Upper Bound')\n",
    "axes[0].axhline(lower_bound, color='orange', linestyle='--', label='Lower Bound')\n",
    "axes[0].set_title('Outlier Detection - Global Active Power', fontsize=12, fontweight='bold')\n",
    "axes[0].set_ylabel('Power (kW)')\n",
    "axes[0].legend()\n",
    "axes[0].grid(True, alpha=0.3)\n",
    "\n",
    "# Distribution comparison\n",
    "axes[1].hist(normal_data, bins=100, alpha=0.7, label='Normal', edgecolor='black')\n",
    "axes[1].hist(outliers, bins=50, alpha=0.7, label='Outliers', edgecolor='black', color='red')\n",
    "axes[1].set_title('Distribution: Normal vs Outliers', fontsize=12, fontweight='bold')\n",
    "axes[1].set_xlabel('Power (kW)')\n",
    "axes[1].set_ylabel('Frequency')\n",
    "axes[1].legend()\n",
    "axes[1].grid(True, alpha=0.3)\n",
    "\n",
    "plt.tight_layout()\n",
    "plt.show()"
   ]
  },
  {
   "cell_type": "markdown",
   "metadata": {},
   "source": [
    "## 11. Key Findings and Recommendations\n",
    "\n",
    "### Data Quality\n",
    "1. **Missing Values**: ~1.25% of observations contain missing values\n",
    "2. **Outliers**: Detected using IQR method, primarily representing extreme consumption events\n",
    "3. **Data Integrity**: Generally high quality with consistent temporal resolution\n",
    "\n",
    "### Temporal Patterns\n",
    "1. **Daily Patterns**: Clear diurnal cycle with peak consumption in evenings (18:00-22:00)\n",
    "2. **Weekly Patterns**: Weekday vs weekend differences observable\n",
    "3. **Seasonal Patterns**: Higher consumption in winter months (heating) and summer (cooling)\n",
    "4. **Long-term Trends**: Relatively stable over the 4-year period\n",
    "\n",
    "### Sub-metering Insights\n",
    "1. Different consumption patterns across zones\n",
    "2. Kitchen (Sub_metering_1) shows regular meal-time spikes\n",
    "3. Water heater & AC (Sub_metering_3) contributes significantly\n",
    "4. Hierarchical relationship with total consumption\n",
    "\n",
    "### Modeling Recommendations\n",
    "1. **Aggregation**: Daily or hourly aggregation recommended to reduce noise\n",
    "2. **Features**: Include temporal features (hour, day, month), lags, rolling statistics\n",
    "3. **Missing Values**: Forward-fill for short gaps, interpolation for longer gaps\n",
    "4. **Outliers**: Keep but flag for robust modeling approaches\n",
    "5. **Sub-metering**: Consider as additional features or for hierarchical modeling\n",
    "6. **Seasonality**: Account for multiple seasonal components (daily, weekly, yearly)\n",
    "\n",
    "### Next Steps\n",
    "1. Implement preprocessing pipeline (02_eda_preprocessing.ipynb)\n",
    "2. Create engineered features for modeling\n",
    "3. Perform time series decomposition\n",
    "4. Establish train/validation/test splits preserving temporal order"
   ]
  },
  {
   "cell_type": "markdown",
   "metadata": {},
   "source": [
    "## 12. Save Summary Statistics"
   ]
  },
  {
   "cell_type": "code",
   "execution_count": null,
   "metadata": {},
   "outputs": [],
   "source": [
    "# Save key statistics for reporting\n",
    "summary = {\n",
    "    'total_observations': len(df),\n",
    "    'date_range': f\"{df['DateTime'].min()} to {df['DateTime'].max()}\",\n",
    "    'duration_days': (df['DateTime'].max() - df['DateTime'].min()).days,\n",
    "    'missing_percentage': (df[target].isnull().sum() / len(df)) * 100,\n",
    "    'target_mean': target_data.mean(),\n",
    "    'target_std': target_data.std(),\n",
    "    'target_min': target_data.min(),\n",
    "    'target_max': target_data.max(),\n",
    "    'outlier_percentage': (len(outliers) / len(target_data)) * 100\n",
    "}\n",
    "\n",
    "import json\n",
    "with open('../reports/dataset_summary.json', 'w') as f:\n",
    "    json.dump(summary, f, indent=2, default=str)\n",
    "\n",
    "print(\"Summary statistics saved to reports/dataset_summary.json\")\n",
    "print(json.dumps(summary, indent=2, default=str))"
   ]
  }
 ],
 "metadata": {
  "kernelspec": {
   "display_name": "Python 3",
   "language": "python",
   "name": "python3"
  },
  "language_info": {
   "codemirror_mode": {
    "name": "ipython",
    "version": 3
   },
   "file_extension": ".py",
   "mimetype": "text/x-python",
   "name": "python",
   "nbconvert_exporter": "python",
   "pygments_lexer": "ipython3",
   "version": "3.8.0"
  }
 },
 "nbformat": 4,
 "nbformat_minor": 4
}
